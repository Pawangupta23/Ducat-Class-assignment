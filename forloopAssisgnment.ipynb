{
 "cells": [
  {
   "cell_type": "markdown",
   "id": "70b37e2f-0942-495e-88af-6baf8a4e6ad1",
   "metadata": {
    "panel-layout": {
     "height": 51.13750076293945,
     "visible": true,
     "width": 100
    }
   },
   "source": [
    "1: Write a Python program to print all the numbers from 1 to 10 using a for loop.\n"
   ]
  },
  {
   "cell_type": "code",
   "execution_count": 1,
   "id": "b545916b-4120-40f3-acd7-1e34c54b7880",
   "metadata": {},
   "outputs": [
    {
     "name": "stdout",
     "output_type": "stream",
     "text": [
      "1\n",
      "2\n",
      "3\n",
      "4\n",
      "5\n",
      "6\n",
      "7\n",
      "8\n",
      "9\n"
     ]
    }
   ],
   "source": [
    "for i in range(1,10,1):\n",
    "    print(i)"
   ]
  },
  {
   "cell_type": "markdown",
   "id": "fa870d85-03d1-49c2-b73c-e1ef04896275",
   "metadata": {
    "panel-layout": {
     "height": 51.13750076293945,
     "visible": true,
     "width": 100
    }
   },
   "source": [
    "2: Write a Python program to find the sum of all numbers from 1 to 100 using a for loop. "
   ]
  },
  {
   "cell_type": "code",
   "execution_count": 5,
   "id": "1c61826e-469d-44c7-952d-b77f5e9d8594",
   "metadata": {},
   "outputs": [
    {
     "name": "stdout",
     "output_type": "stream",
     "text": [
      "The sum of numbers from 1 to 100 is:  5050\n"
     ]
    }
   ],
   "source": [
    "sum = 0\n",
    "for i in range(1,101,1):\n",
    "    sum = sum + i\n",
    "print(\"The sum of numbers from 1 to 100 is: \",(sum))\n",
    "    "
   ]
  },
  {
   "cell_type": "markdown",
   "id": "fd981cd1-cfaf-428b-812d-fc7e781e6581",
   "metadata": {
    "panel-layout": {
     "height": 51.13750076293945,
     "visible": true,
     "width": 100
    }
   },
   "source": [
    "3: Write a Python program to print the multiplication table of a given number using a for loop."
   ]
  },
  {
   "cell_type": "code",
   "execution_count": 11,
   "id": "808e35bc-c86a-48dd-b235-ad21552fd097",
   "metadata": {},
   "outputs": [
    {
     "name": "stdin",
     "output_type": "stream",
     "text": [
      "Enter the number:  5\n"
     ]
    },
    {
     "name": "stdout",
     "output_type": "stream",
     "text": [
      "5 * 1 =  5\n",
      "5 * 2 =  10\n",
      "5 * 3 =  15\n",
      "5 * 4 =  20\n",
      "5 * 5 =  25\n",
      "5 * 6 =  30\n",
      "5 * 7 =  35\n",
      "5 * 8 =  40\n",
      "5 * 9 =  45\n",
      "5 * 10 =  50\n"
     ]
    }
   ],
   "source": [
    "num = int(input(\"Enter the number: \"))\n",
    "for i in range(1, 11,1):\n",
    "    print(f\"{num} * {i} = \",num*i)"
   ]
  },
  {
   "cell_type": "markdown",
   "id": "4cfd1e6e-2384-405e-8a3d-77723722fc0e",
   "metadata": {},
   "source": [
    "4: Write a Python program to count the number of even and odd numbers from a series of numbers using a for loop. Hint: Find even and odd from this list: [1, 2, 3, 4, 5, 6, 7, 8, 9, 10]"
   ]
  },
  {
   "cell_type": "code",
   "execution_count": 15,
   "id": "bbd7c0d5-4891-4b29-b36c-3c631d627d45",
   "metadata": {},
   "outputs": [
    {
     "name": "stdout",
     "output_type": "stream",
     "text": [
      "Number of even numbers: 5\n",
      "Number of odd numbers: 5\n"
     ]
    }
   ],
   "source": [
    "list1 = [1, 2, 3, 4, 5, 6, 7, 8, 9, 10]\n",
    "\n",
    "even_count = 0\n",
    "odd_count = 0\n",
    "\n",
    "for i in list1:\n",
    "    if i % 2 == 0:\n",
    "        even_count += 1 \n",
    "        \n",
    "    else:\n",
    "        odd_count += 1\n",
    "        \n",
    "print(\"Number of even numbers:\", even_count)\n",
    "print(\"Number of odd numbers:\", odd_count)       "
   ]
  },
  {
   "cell_type": "markdown",
   "id": "1f2d3332-d431-45d4-83fb-5d586500df5c",
   "metadata": {},
   "source": [
    "5: Write a Python program to find the factorial of a number using a for loop.\n",
    "                                                                   "
   ]
  },
  {
   "cell_type": "code",
   "execution_count": 17,
   "id": "626f1c55-34fd-437c-8857-b4428e39b78c",
   "metadata": {},
   "outputs": [
    {
     "name": "stdin",
     "output_type": "stream",
     "text": [
      "Enter the number:  10\n"
     ]
    },
    {
     "name": "stdout",
     "output_type": "stream",
     "text": [
      "The factorial of 10 is:  3628800\n"
     ]
    }
   ],
   "source": [
    "num = int(input(\"Enter the number: \"))\n",
    "factorial = 1\n",
    "if num < 1:\n",
    "    print(\"Factorial does not exist for negative and zero numbers\")\n",
    "else:\n",
    "    for i in range(1,num+1):\n",
    "        factorial *= i\n",
    "    print(f\"The factorial of {num} is:  {factorial}\")\n",
    "    "
   ]
  },
  {
   "cell_type": "markdown",
   "id": "aeab90b5-59ec-4bbc-a21d-cb93c433bbb3",
   "metadata": {},
   "source": [
    " 6: Write a Python program to print the Fibonacci sequence up to a specified number using a for loop."
   ]
  },
  {
   "cell_type": "code",
   "execution_count": 18,
   "id": "df1bad4d-73ea-4bd0-b3ea-3d4c21f8de5e",
   "metadata": {},
   "outputs": [
    {
     "name": "stdin",
     "output_type": "stream",
     "text": [
      "Enter the numbers of terms:  10\n"
     ]
    },
    {
     "name": "stdout",
     "output_type": "stream",
     "text": [
      "0 1 1 2 3 5 8 13 21 34 "
     ]
    }
   ],
   "source": [
    "terms = int(input(\"Enter the numbers of terms: \"))\n",
    "import time\n",
    "a = 0\n",
    "b = 1\n",
    "for i in range(a, terms):\n",
    "    time.sleep(1)\n",
    "    print(a, end= \" \")\n",
    "    a,b = b,b+a"
   ]
  },
  {
   "cell_type": "markdown",
   "id": "84e88d94-5363-471c-8c5a-86ad5d140d73",
   "metadata": {},
   "source": [
    "7: Write a Python program to check if a given number is prime or not using a for loop."
   ]
  },
  {
   "cell_type": "code",
   "execution_count": 20,
   "id": "80111bbe-b7d6-4492-bcd7-48f868c5f79c",
   "metadata": {},
   "outputs": [
    {
     "name": "stdin",
     "output_type": "stream",
     "text": [
      "Enter the number:  7\n"
     ]
    },
    {
     "name": "stdout",
     "output_type": "stream",
     "text": [
      "prime number\n"
     ]
    }
   ],
   "source": [
    "num = int(input(\"Enter the number: \"))\n",
    "for i in range(2,num):\n",
    "    if num%i==0:\n",
    "        print(\"The number is not prime number: \")\n",
    "        break\n",
    "else:\n",
    "    print(\"prime number\")\n",
    "        \n",
    "        \n"
   ]
  },
  {
   "cell_type": "markdown",
   "id": "23b22b82-9d70-4937-b3e5-d4bca0c351b7",
   "metadata": {},
   "source": [
    "8: Write a Python program to find the largest element in a list using a for loop."
   ]
  },
  {
   "cell_type": "code",
   "execution_count": 24,
   "id": "d9b35890-44ad-4a00-bbc6-e7e4e0bad39a",
   "metadata": {},
   "outputs": [
    {
     "name": "stdin",
     "output_type": "stream",
     "text": [
      "Enter numbers separated by space:  45 55 77\n"
     ]
    },
    {
     "name": "stdout",
     "output_type": "stream",
     "text": [
      "The largest number in list is:  77\n"
     ]
    }
   ],
   "source": [
    "numbers = list(map(int, input(\"Enter numbers separated by space: \").split()))\n",
    "\n",
    "largest = numbers[0]\n",
    "for num in numbers:\n",
    "    if num > largest:\n",
    "        largest = num\n",
    "print(\"The largest number in list is: \",largest)"
   ]
  },
  {
   "cell_type": "markdown",
   "id": "3f3c26eb-842a-4eec-9f5e-339e745b4694",
   "metadata": {},
   "source": [
    "Write a Python program to reverse a given string using a for loop."
   ]
  },
  {
   "cell_type": "code",
   "execution_count": 26,
   "id": "01bfb51d-4dd2-4db7-8d90-d8dd31242096",
   "metadata": {},
   "outputs": [
    {
     "name": "stdin",
     "output_type": "stream",
     "text": [
      "Enter the words:  bhgfyh\n"
     ]
    },
    {
     "name": "stdout",
     "output_type": "stream",
     "text": [
      "hyfghb\n"
     ]
    }
   ],
   "source": [
    "string = input(\"Enter the words: \")\n",
    "reverse = \"\"\n",
    "for char in string:\n",
    "    reverse = char + reverse\n",
    "print(reverse)"
   ]
  },
  {
   "cell_type": "markdown",
   "id": "449f91c1-bb90-46ea-8648-394c7e7926ee",
   "metadata": {},
   "source": [
    "10: Write a Python program to find the common elements between two lists using a for loop. List1 = [1,2,3] List2 = [4,5,1] # common element is 1"
   ]
  },
  {
   "cell_type": "code",
   "execution_count": 27,
   "id": "15dbd7e6-926d-4685-b29d-a57cedbd00c0",
   "metadata": {},
   "outputs": [
    {
     "name": "stdout",
     "output_type": "stream",
     "text": [
      "Common elements are: [1]\n"
     ]
    }
   ],
   "source": [
    "\n",
    "list1 = [1, 2, 3]\n",
    "list2 = [4, 5, 1]\n",
    "\n",
    "common_elements = []\n",
    "for item in list1:\n",
    "    \n",
    "    if item in list2:\n",
    "        common_elements.append(item)\n",
    "\n",
    "print(\"Common elements are:\", common_elements)\n"
   ]
  },
  {
   "cell_type": "code",
   "execution_count": null,
   "id": "543d9e86-1096-4d11-a483-bcfffde737be",
   "metadata": {},
   "outputs": [],
   "source": []
  }
 ],
 "metadata": {
  "kernelspec": {
   "display_name": "Python [conda env:base] *",
   "language": "python",
   "name": "conda-base-py"
  },
  "language_info": {
   "codemirror_mode": {
    "name": "ipython",
    "version": 3
   },
   "file_extension": ".py",
   "mimetype": "text/x-python",
   "name": "python",
   "nbconvert_exporter": "python",
   "pygments_lexer": "ipython3",
   "version": "3.13.5"
  },
  "panel-cell-order": [
   "70b37e2f-0942-495e-88af-6baf8a4e6ad1",
   "fa870d85-03d1-49c2-b73c-e1ef04896275",
   "fd981cd1-cfaf-428b-812d-fc7e781e6581"
  ]
 },
 "nbformat": 4,
 "nbformat_minor": 5
}
