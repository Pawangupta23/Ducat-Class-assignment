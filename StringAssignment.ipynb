{
 "cells": [
  {
   "cell_type": "markdown",
   "id": "faf96bd9-afb2-475a-a6dd-825da2775b52",
   "metadata": {},
   "source": [
    "1. How do you concatenate two strings in Python?"
   ]
  },
  {
   "cell_type": "code",
   "execution_count": 1,
   "id": "ed7f953f-aacf-4a83-83cc-4937788e6865",
   "metadata": {},
   "outputs": [
    {
     "name": "stdout",
     "output_type": "stream",
     "text": [
      "Rohan Singh\n"
     ]
    }
   ],
   "source": [
    "String1 = \"Rohan\"\n",
    "String2 = \"Singh\"\n",
    "Full_string = \" \".join([String1, String2])\n",
    "print(Full_string)"
   ]
  },
  {
   "cell_type": "markdown",
   "id": "d4027b74-8069-4147-812d-d6a772f58fdf",
   "metadata": {},
   "source": [
    "2.What is the difference between the + operator and the join() method for\n",
    "concatenating strings?"
   ]
  },
  {
   "cell_type": "code",
   "execution_count": 6,
   "id": "55c5b49d-3f99-4f90-bee9-a97df505a3b6",
   "metadata": {},
   "outputs": [
    {
     "name": "stdout",
     "output_type": "stream",
     "text": [
      "There are lots of work to done.\n",
      "There are lots of work to done.\n"
     ]
    }
   ],
   "source": [
    "'''- The `+` operator creates a new string object each time it's used, which is inefficient for multiple concatenations, especially in loops\n",
    "- The `join()` method is more efficient for concatenating multiple strings as it allocates memory for the result only once'''\n",
    "\n",
    "\n",
    "str1 = \"There are lots\"\n",
    "str2 = \"of work\"\n",
    "str3 = \"to done.\"\n",
    "\n",
    "# With +operator\n",
    "result_plus = str1 +\" \"+ str2 + \" \"+ str3\n",
    "print(result_plus)\n",
    "\n",
    "# With join method\n",
    "\n",
    "result_join = \" \".join([str1, str2, str3])\n",
    "print(result_join)"
   ]
  },
  {
   "cell_type": "markdown",
   "id": "efdc7126-cda7-4df7-909f-401dec8b4356",
   "metadata": {},
   "source": [
    "3. How do you access individual characters in a string?"
   ]
  },
  {
   "cell_type": "code",
   "execution_count": 11,
   "id": "9489f9d4-30cb-42ac-994c-2100781bd69f",
   "metadata": {},
   "outputs": [
    {
     "name": "stdout",
     "output_type": "stream",
     "text": [
      "Eeh\n"
     ]
    }
   ],
   "source": [
    "# By using the slicing method\n",
    "\n",
    "str1 = \"Elephant\"\n",
    "str1 = str1[0:6:2]\n",
    "print(str1)"
   ]
  },
  {
   "cell_type": "markdown",
   "id": "1b2b374e-0be4-40f0-abd8-013a9f6a6cac",
   "metadata": {},
   "source": [
    "4. What method is used to find the length of a string in Python?"
   ]
  },
  {
   "cell_type": "code",
   "execution_count": 12,
   "id": "7ee78e6b-fd76-48c5-b5eb-e29f76932561",
   "metadata": {},
   "outputs": [
    {
     "name": "stdout",
     "output_type": "stream",
     "text": [
      "19\n"
     ]
    }
   ],
   "source": [
    "#The `len()` function is used to find the length of a string in Python.\n",
    "\n",
    "my_string = \"Roses are beautiful\"\n",
    "length = len(my_string)\n",
    "print(length)"
   ]
  },
  {
   "cell_type": "markdown",
   "id": "6055c555-320c-428a-a784-486140168fd4",
   "metadata": {},
   "source": [
    "5. How can you convert a string to uppercase in Python?"
   ]
  },
  {
   "cell_type": "code",
   "execution_count": 14,
   "id": "aa7e1eb5-6af3-4bb3-a119-2012c5de85cd",
   "metadata": {},
   "outputs": [
    {
     "name": "stdout",
     "output_type": "stream",
     "text": [
      "ROSES ARE BEAUTIFUL\n"
     ]
    }
   ],
   "source": [
    "\n",
    "#uses string.upper() method. \n",
    "\n",
    "my_string = \"Roses are beautiful\"\n",
    "uppercase = my_string.upper()\n",
    "print(uppercase)"
   ]
  },
  {
   "cell_type": "markdown",
   "id": "9c2480e6-c1f9-472f-8729-126330787cf7",
   "metadata": {},
   "source": [
    "6. How can you convert a string to lowercase in Python?"
   ]
  },
  {
   "cell_type": "code",
   "execution_count": 15,
   "id": "a635145d-0f0d-4433-883f-9ad567107a86",
   "metadata": {},
   "outputs": [
    {
     "name": "stdout",
     "output_type": "stream",
     "text": [
      "winter is comeing\n"
     ]
    }
   ],
   "source": [
    "#uses string.lower() method. \n",
    "\n",
    "my_string = \"WINTER IS COMEING\"\n",
    "lowercase = my_string.lower()\n",
    "print(lowercase)"
   ]
  },
  {
   "cell_type": "markdown",
   "id": "dea921ef-5502-46bf-9712-ec0b2f093858",
   "metadata": {},
   "source": [
    "7. What method is used to replace substrings within a string?"
   ]
  },
  {
   "cell_type": "code",
   "execution_count": 17,
   "id": "2ed73270-dba5-4000-990f-05610da4dc9d",
   "metadata": {},
   "outputs": [
    {
     "name": "stdout",
     "output_type": "stream",
     "text": [
      "Dog sitting down of the table.\n"
     ]
    }
   ],
   "source": [
    "'''The `.replace()` method takes two arguments:\n",
    "1. The substring you want to replace\n",
    "2. The substring you want to replace it with'''\n",
    "\n",
    "str1 = \"Dog sitting top of the table.\"\n",
    "replace_str1 = str1.replace(\"top\",\"down\")\n",
    "print(replace_str1)"
   ]
  },
  {
   "cell_type": "markdown",
   "id": "2633b637-d88f-400e-8dc2-017bff17d070",
   "metadata": {},
   "source": [
    "8. How can you split a string into a list of substrings based on a delimiter?"
   ]
  },
  {
   "cell_type": "code",
   "execution_count": 21,
   "id": "199e587a-2898-418a-affe-db9ad3ab0ef5",
   "metadata": {},
   "outputs": [
    {
     "name": "stdout",
     "output_type": "stream",
     "text": [
      "['Delhi', 'is', 'a', 'large', 'number', 'of', 'population']\n"
     ]
    }
   ],
   "source": [
    "'''The `.split()` method:\n",
    "1. Takes a delimiter as an argument (comma in the example above)\n",
    "2. Returns a list of substrings that were separated by the delimiter in the original string\n",
    "3. If no delimiter is specified, it splits by whitespace by default'''\n",
    "\n",
    "str1 = \"Delhi is a large number of population\"\n",
    "split_str1 = str1.split()\n",
    "print(split_str1)"
   ]
  },
  {
   "cell_type": "markdown",
   "id": "e504098e-aa01-4c0a-9cf8-e4b3d29f8132",
   "metadata": {},
   "source": [
    "9. How do you check if a string starts with a particular substring?"
   ]
  },
  {
   "cell_type": "code",
   "execution_count": 22,
   "id": "75a1c320-d3ce-4a36-86aa-474e328e7e35",
   "metadata": {},
   "outputs": [
    {
     "name": "stdout",
     "output_type": "stream",
     "text": [
      "True\n",
      "False\n"
     ]
    }
   ],
   "source": [
    "# we can use .startswith() function to check the substring\n",
    "\n",
    "text = \"Hello python\"\n",
    "result = text.startswith(\"Hello\")\n",
    "print(result)\n",
    "\n",
    "another_check = text.startswith(\"python\")\n",
    "print(another_check)"
   ]
  },
  {
   "cell_type": "markdown",
   "id": "18f752ef-97e2-4ee8-9b63-274cbbcd110a",
   "metadata": {},
   "source": [
    "10. How do you check if a string ends with a particular substring?"
   ]
  },
  {
   "cell_type": "code",
   "execution_count": 23,
   "id": "b46c78f2-ab3e-4768-ab7d-a67a0acdf482",
   "metadata": {},
   "outputs": [
    {
     "name": "stdout",
     "output_type": "stream",
     "text": [
      "False\n",
      "True\n"
     ]
    }
   ],
   "source": [
    "# we can use .endswith() function to check the substring\n",
    "\n",
    "text = \"Hello python\"\n",
    "result = text.endswith(\"Hello\")\n",
    "print(result)\n",
    "\n",
    "another_check = text.endswith(\"python\")\n",
    "print(another_check)"
   ]
  },
  {
   "cell_type": "markdown",
   "id": "565d2ec1-3314-4abb-a9f8-af773a68d2e6",
   "metadata": {},
   "source": [
    "11. How can you remove leading and trailing whitespace from a string?"
   ]
  },
  {
   "cell_type": "code",
   "execution_count": 24,
   "id": "4931aad3-4d42-4f1b-8ad9-94a5fd51ebe7",
   "metadata": {},
   "outputs": [
    {
     "name": "stdout",
     "output_type": "stream",
     "text": [
      "Hello WOrld\n"
     ]
    }
   ],
   "source": [
    "'''The `.strip()` method:\n",
    "1. Removes whitespace characters (spaces, tabs, newlines) from both the beginning and end of a string\n",
    "2. Returns a new string with whitespace removed\n",
    "3. Does not modify the original string unless you reassign it'''\n",
    "\n",
    "text = \"$$$###Hello WOrld%%%@@@\"\n",
    "cleaned_text = text.strip(\"$#%@\")\n",
    "print(cleaned_text)"
   ]
  },
  {
   "cell_type": "markdown",
   "id": "b68dfedc-2c6a-4aae-afcc-d828a3ee34ce",
   "metadata": {},
   "source": [
    "12. What method is used to find the index of the first occurrence of a substring within a\n",
    "string?"
   ]
  },
  {
   "cell_type": "code",
   "execution_count": 25,
   "id": "46ab4d0f-1a07-46d2-9875-92c7ea055e51",
   "metadata": {},
   "outputs": [
    {
     "name": "stdout",
     "output_type": "stream",
     "text": [
      "6\n",
      "-1\n"
     ]
    }
   ],
   "source": [
    "'''The `.find()` method:\n",
    "1. Returns the lowest index where the substring is found\n",
    "2. Returns -1 if the substring is not found\n",
    "3. Is case-sensitive'''\n",
    "\n",
    "text = \"Hello world, welcome to Python\"\n",
    "index = text.find(\"world\") \n",
    "print(index)\n",
    "\n",
    "not_found = text.find(\"Java\") \n",
    "print(not_found)\n"
   ]
  },
  {
   "cell_type": "markdown",
   "id": "9f879aab-93fd-43ab-8140-413ccd658ff6",
   "metadata": {},
   "source": [
    "13. How can you count the number of occurrences of a substring within a string?"
   ]
  },
  {
   "cell_type": "code",
   "execution_count": 27,
   "id": "1b7572e7-60d2-4f20-a95c-d4dbe5e9090e",
   "metadata": {},
   "outputs": [
    {
     "name": "stdout",
     "output_type": "stream",
     "text": [
      "2\n"
     ]
    }
   ],
   "source": [
    "# Use the \".count()\" function\n",
    "\n",
    "text = \"Hello to the world, welcome to Python\"\n",
    "index = text.count(\"to\") \n",
    "print(index)\n"
   ]
  },
  {
   "cell_type": "markdown",
   "id": "678ec49e-55a2-4f0f-8276-08c127c65820",
   "metadata": {},
   "source": [
    "14. How do you check if a string contains only alphabetic characters?"
   ]
  },
  {
   "cell_type": "code",
   "execution_count": 28,
   "id": "b7971ea1-5ef8-42bb-aa96-70440a7328eb",
   "metadata": {},
   "outputs": [
    {
     "name": "stdout",
     "output_type": "stream",
     "text": [
      "True\n",
      "False\n",
      "False\n"
     ]
    }
   ],
   "source": [
    "# use \".isalpha()\" function\n",
    "\n",
    "str1 = \"Hello\"\n",
    "result1 = str1.isalpha()  \n",
    "print(result1)\n",
    "\n",
    "str2 = \"Hello123\"\n",
    "result2 = str2.isalpha()  \n",
    "print(result2)\n",
    "\n",
    "str3 = \"Hello World\"\n",
    "result3 = str3.isalpha()  \n",
    "print(result3)"
   ]
  },
  {
   "cell_type": "markdown",
   "id": "fc2651d0-7fd0-485d-8a91-5b9abf347d78",
   "metadata": {},
   "source": [
    "15. How do you check if a string contains only numeric characters?"
   ]
  },
  {
   "cell_type": "code",
   "execution_count": 30,
   "id": "cc90cbc0-a6be-4c4b-8192-50447c91b4bb",
   "metadata": {},
   "outputs": [
    {
     "name": "stdout",
     "output_type": "stream",
     "text": [
      "True\n",
      "False\n",
      "False\n"
     ]
    }
   ],
   "source": [
    "# use \".isdigit()\" function\n",
    "\n",
    "str1 = \"12345\"\n",
    "result1 = str1.isdigit()  \n",
    "print(result1)\n",
    "\n",
    "str2 = \"123abc\"\n",
    "result2 = str2.isdigit()  \n",
    "print(result2)\n",
    "\n",
    "str3 = \"123 456\"\n",
    "result3 = str3.isdigit()  \n",
    "print(result3)"
   ]
  },
  {
   "cell_type": "markdown",
   "id": "447ebc3a-ae91-4bd1-9539-4c99560cd8c1",
   "metadata": {},
   "source": [
    "17. How can you reverse a string in Python?"
   ]
  },
  {
   "cell_type": "code",
   "execution_count": 31,
   "id": "eeda1b2a-d01e-4f7e-a2dc-7d2f59903188",
   "metadata": {},
   "outputs": [
    {
     "name": "stdout",
     "output_type": "stream",
     "text": [
      "!!!dlroW olleH\n",
      "!!!adioN olleH\n"
     ]
    }
   ],
   "source": [
    "#Used silicing method.\n",
    "s = \"Hello World!!!\"\n",
    "rev = s[::-1]\n",
    "print(rev)\n",
    "\n",
    "#Used reversed() and Join() method.\n",
    "s = \"Hello Noida!!!\"\n",
    "rev = ''.join(reversed(s))\n",
    "print(rev)"
   ]
  },
  {
   "cell_type": "markdown",
   "id": "1792daaf-1a08-4015-818d-d2aa9b1b4698",
   "metadata": {},
   "source": [
    "18. How do you format a string with placeholders for variable values?"
   ]
  },
  {
   "cell_type": "code",
   "execution_count": 40,
   "id": "e1a309b3-c8ad-4dc3-8e80-3c63ccbd6792",
   "metadata": {},
   "outputs": [
    {
     "name": "stdout",
     "output_type": "stream",
     "text": [
      "My name is Pawan and i am 22 year old and i lives in Delhi.\n"
     ]
    }
   ],
   "source": [
    "name = \"Pawan\"\n",
    "age = 22\n",
    "city = \"Delhi\"\n",
    "# 1. formatting with % operator.\n",
    "print(\"My name is %s and i am %d year old and i lives in %s.\" %(name,age,city))"
   ]
  },
  {
   "cell_type": "code",
   "execution_count": 46,
   "id": "d66eece7-376c-4c58-947c-89faac118d36",
   "metadata": {},
   "outputs": [
    {
     "name": "stdout",
     "output_type": "stream",
     "text": [
      "My name is Pawan and i am 22 year old and i lives in Delhi.\n",
      "My name is Pawan and i am 22 year old and i lives in Delhi.\n"
     ]
    }
   ],
   "source": [
    "name = \"Pawan\"\n",
    "age = 22\n",
    "\n",
    "# 1. formatting using str.format()\n",
    "print(\"My name is {} and i am {} year old and i lives in {}.\".format(name,age,city))\n",
    "\n",
    "#2.using f-strings method.\n",
    "print(f\"My name is {name} and i am {age} year old and i lives in {city}.\")"
   ]
  },
  {
   "cell_type": "markdown",
   "id": "adaa8150-18f2-489e-b8f6-52b96b03c2df",
   "metadata": {},
   "source": [
    "19. How do you access a substring of a string using slicing?"
   ]
  },
  {
   "cell_type": "code",
   "execution_count": 59,
   "id": "9381f4e2-155b-4dbe-bf7d-6f037bb9c644",
   "metadata": {},
   "outputs": [
    {
     "name": "stdout",
     "output_type": "stream",
     "text": [
      " ever\n"
     ]
    }
   ],
   "source": [
    "str1 = \"Forever ever and ever\"\n",
    "str2 = str1[7:12:]\n",
    "print(str2)"
   ]
  },
  {
   "cell_type": "markdown",
   "id": "bd162dbf-f85f-4b5a-9c76-44e204cdecb4",
   "metadata": {},
   "source": [
    "20. How can you remove specific characters from a string in Python?"
   ]
  },
  {
   "cell_type": "code",
   "execution_count": 62,
   "id": "1ef4422d-2ff9-4c55-aceb-028288e56eaa",
   "metadata": {},
   "outputs": [
    {
     "name": "stdout",
     "output_type": "stream",
     "text": [
      "Hello World!\n"
     ]
    }
   ],
   "source": [
    "# using the '.replace()' function\n",
    "\n",
    "str1 = \"Hello, World!\"\n",
    "text_without_commas = str1.replace(\",\", \"\")\n",
    "print(text_without_commas)\n",
    "   "
   ]
  },
  {
   "cell_type": "code",
   "execution_count": null,
   "id": "0942ff04-2893-4725-8ac0-68285b0165f3",
   "metadata": {},
   "outputs": [],
   "source": []
  }
 ],
 "metadata": {
  "kernelspec": {
   "display_name": "Python [conda env:base] *",
   "language": "python",
   "name": "conda-base-py"
  },
  "language_info": {
   "codemirror_mode": {
    "name": "ipython",
    "version": 3
   },
   "file_extension": ".py",
   "mimetype": "text/x-python",
   "name": "python",
   "nbconvert_exporter": "python",
   "pygments_lexer": "ipython3",
   "version": "3.13.5"
  }
 },
 "nbformat": 4,
 "nbformat_minor": 5
}
