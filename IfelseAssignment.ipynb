{
 "cells": [
  {
   "cell_type": "markdown",
   "id": "6ebdb302-0305-4ebd-ac26-f0533dad4421",
   "metadata": {},
   "source": [
    "Q1. Write a program to calculate the electricity bill\n",
    "using only if statement? (accept number of unit from user)\n",
    "according to the following criteria:\n",
    "\n",
    "Unit Price\n",
    "First 100 units no charge\n",
    "Next 100 units Rs 5 per unit\n",
    "After 200 units Rs 10 per unit\n",
    "(For example, if input unit is 350 than total bill amount is Rs2000). Lets explain...\n",
    "For first 100 no charges\n",
    "Now you have 250 unit remaining\n",
    "100-200 you need to pay – 100*5 = 500\n",
    "Now 200-100 you need to pay 150*10 = 1500\n",
    "Total = 500+1500 = 2000\n",
    "\n"
   ]
  },
  {
   "cell_type": "code",
   "execution_count": 4,
   "id": "6bafdbf0-955d-4079-92d9-af850a13185f",
   "metadata": {},
   "outputs": [
    {
     "name": "stdin",
     "output_type": "stream",
     "text": [
      "Enter the number of units consumed:  350\n"
     ]
    },
    {
     "name": "stdout",
     "output_type": "stream",
     "text": [
      "Total Units: 350.0\n",
      "ELectricity bill: Rs 2000.0\n"
     ]
    }
   ],
   "source": [
    "units = float(input(\"Enter the number of units consumed: \"))\n",
    "\n",
    "bill_amount = 0\n",
    "\n",
    "if units > 0:\n",
    "    # For first 100 units - no charge\n",
    "    if units <= 0:\n",
    "        bill_amount = 0\n",
    "           \n",
    "        # For units between 101 and 200\n",
    "\n",
    "    if units > 100 and units <= 200:\n",
    "        bill_amount = (units-100)*5\n",
    "\n",
    "     # For units above 200\n",
    "    if units > 200:\n",
    "        bill_amount = 100*5\n",
    "        bill_amount = bill_amount + (units - 200)*10\n",
    "\n",
    "print(f\"Total Units: {units}\")\n",
    "print(F\"ELectricity bill: Rs {bill_amount}\")\n",
    "        "
   ]
  },
  {
   "cell_type": "markdown",
   "id": "b6216017-d6e9-4bfd-a6e6-dc488c8bb2e8",
   "metadata": {},
   "source": [
    "Q2. Write a program to accept percentage from the user and display\n",
    "the grade according to the following criteria:\n",
    "\n",
    "Marks Grade\n",
    "> 90 A\n",
    "> 80 and <= 90 B\n",
    ">= 60 and <= 80 C\n",
    "below 60 D\n",
    "\n"
   ]
  },
  {
   "cell_type": "code",
   "execution_count": 8,
   "id": "9f9f5bd2-2edf-44a2-ba9a-9ff73b029259",
   "metadata": {},
   "outputs": [
    {
     "name": "stdin",
     "output_type": "stream",
     "text": [
      "Enter your percentage:  55\n"
     ]
    },
    {
     "name": "stdout",
     "output_type": "stream",
     "text": [
      "Your percentage: 55.0%\n",
      "Your grade: D\n"
     ]
    }
   ],
   "source": [
    "\n",
    "try:\n",
    "    percentage = float(input(\"Enter your percentage: \"))\n",
    "    \n",
    "    grade = \"\"\n",
    "    \n",
    "    # Determine grade based on percentage using if statements\n",
    "    if percentage > 90:\n",
    "        grade = \"A\"\n",
    "    if percentage > 80 and percentage <= 90:\n",
    "        grade = \"B\"\n",
    "    if percentage >= 60 and percentage <= 80:\n",
    "        grade = \"C\"\n",
    "    if percentage < 60:\n",
    "        grade = \"D\"\n",
    "    \n",
    "    # Display the result\n",
    "    print(f\"Your percentage: {percentage}%\")\n",
    "    print(f\"Your grade: {grade}\")\n",
    "    \n",
    "except ValueError:\n",
    "    print(\"Invalid input! Please enter a numeric value for percentage.\")"
   ]
  },
  {
   "cell_type": "markdown",
   "id": "99cb5193-9b5b-43e2-b859-3db69e44fb24",
   "metadata": {},
   "source": [
    "Q3. Accept the age of 4 people and display the youngest one?"
   ]
  },
  {
   "cell_type": "code",
   "execution_count": 9,
   "id": "54a958a5-a0e7-4b35-98ce-8a4292c058a0",
   "metadata": {},
   "outputs": [
    {
     "name": "stdin",
     "output_type": "stream",
     "text": [
      "Enter age of person 1:  36\n",
      "Enter age of person 2:  28\n",
      "Enter age of person 3:  64\n",
      "Enter age of person 4:  18\n"
     ]
    },
    {
     "name": "stdout",
     "output_type": "stream",
     "text": [
      "The youngest age is: 18\n"
     ]
    }
   ],
   "source": [
    "# Accept ages of 4 people\n",
    "age1 = int(input(\"Enter age of person 1: \"))\n",
    "age2 = int(input(\"Enter age of person 2: \"))\n",
    "age3 = int(input(\"Enter age of person 3: \"))\n",
    "age4 = int(input(\"Enter age of person 4: \"))\n",
    "\n",
    "# Assume first person is youngest\n",
    "youngest = age1\n",
    "\n",
    "# Compare with others\n",
    "if age2 < youngest:\n",
    "    youngest = age2\n",
    "if age3 < youngest:\n",
    "    youngest = age3\n",
    "if age4 < youngest:\n",
    "    youngest = age4\n",
    "\n",
    "print(\"The youngest age is:\", youngest)\n"
   ]
  },
  {
   "cell_type": "markdown",
   "id": "7207575a-85b2-49a2-a347-670a50344d95",
   "metadata": {},
   "source": [
    "Q4. A company decided to give bonus to employee\n",
    "according to following criteria:\n",
    "\n",
    "Time period of Service Bonus\n",
    "\n",
    "More than 10 years 10%\n",
    "\n",
    ">=6 and <=10 8%\n",
    "\n",
    "Less than 6 years 5%\n",
    "\n",
    "Ask user for their salary and years of service and print the\n",
    "net bonus amount?"
   ]
  },
  {
   "cell_type": "code",
   "execution_count": 12,
   "id": "66a5bc60-493c-46fe-aa8e-c97bc4d92ce4",
   "metadata": {},
   "outputs": [
    {
     "name": "stdin",
     "output_type": "stream",
     "text": [
      "Enter your salary:  60000\n",
      "Enter your years of services:  6\n"
     ]
    },
    {
     "name": "stdout",
     "output_type": "stream",
     "text": [
      "Your bonus amount is: 4800.0\n",
      "Your net salary (salary + bonus) is: 64800.0\n"
     ]
    }
   ],
   "source": [
    "salary = float(input(\"Enter your salary: \"))\n",
    "years = int(input(\"Enter your years of services: \"))\n",
    "\n",
    "#Check bonus percentage\n",
    "if years > 10:\n",
    "    bonus = 0.10*salary\n",
    "elif years >= 6 and years <= 10:\n",
    "    bonus = 0.08 * salary\n",
    "else:\n",
    "    bonus = 0.05 * salary\n",
    "\n",
    "print(\"Your bonus amount is:\", bonus)\n",
    "print(\"Your net salary (salary + bonus) is:\", salary + bonus)\n",
    " "
   ]
  },
  {
   "cell_type": "markdown",
   "id": "0ef56083-baa5-4354-beee-0a6145265466",
   "metadata": {},
   "source": [
    "Q5. Accept three numbers from the user and\n",
    "display the second largest number?"
   ]
  },
  {
   "cell_type": "code",
   "execution_count": 13,
   "id": "65a4f020-09c8-409b-b90f-06d153bfe4bb",
   "metadata": {},
   "outputs": [
    {
     "name": "stdin",
     "output_type": "stream",
     "text": [
      "Enter first number:  25\n",
      "Enter second number:  36\n",
      "Enter third number:  41\n"
     ]
    },
    {
     "name": "stdout",
     "output_type": "stream",
     "text": [
      "The second largest number is: 36\n"
     ]
    }
   ],
   "source": [
    "# Accept three numbers\n",
    "a = int(input(\"Enter first number: \"))\n",
    "b = int(input(\"Enter second number: \"))\n",
    "c = int(input(\"Enter third number: \"))\n",
    "\n",
    "# Find the second largest\n",
    "if (a > b and a < c) or (a > c and a < b):\n",
    "    second = a\n",
    "elif (b > a and b < c) or (b > c and b < a):\n",
    "    second = b\n",
    "else:\n",
    "    second = c\n",
    "\n",
    "print(\"The second largest number is:\", second)\n",
    "\n",
    "\n"
   ]
  },
  {
   "cell_type": "markdown",
   "id": "b6b78caf-1c03-4af3-8d2d-05200a54dd3d",
   "metadata": {},
   "source": [
    "Q6. Accept the marked price from the user and calculate\n",
    "the Net amount as (Marked Price – Discount) to pay\n",
    "according to following criteria:\n",
    "\n",
    "Marked Price Discount\n",
    ">10000 20%\n",
    ">7000 and <=10000 15%\n",
    "<=7000 10%"
   ]
  },
  {
   "cell_type": "code",
   "execution_count": 14,
   "id": "dc6fb5a5-5c9b-42a3-9754-7c4cb53d33d3",
   "metadata": {},
   "outputs": [
    {
     "name": "stdin",
     "output_type": "stream",
     "text": [
      "Enter the marked price:  8000\n"
     ]
    },
    {
     "name": "stdout",
     "output_type": "stream",
     "text": [
      "Discount is: 1200.0\n",
      "Net amount to pay is: 6800.0\n"
     ]
    }
   ],
   "source": [
    "# Input marked price\n",
    "mp = float(input(\"Enter the marked price: \"))\n",
    "\n",
    "# Check discount criteria\n",
    "if mp > 10000:\n",
    "    discount = 0.20 * mp\n",
    "elif mp > 7000 and mp <= 10000:\n",
    "    discount = 0.15 * mp\n",
    "else:\n",
    "    discount = 0.10 * mp\n",
    "\n",
    "# Calculate net amount\n",
    "net_amount = mp - discount\n",
    "\n",
    "print(\"Discount is:\", discount)\n",
    "print(\"Net amount to pay is:\", net_amount)\n"
   ]
  },
  {
   "cell_type": "markdown",
   "id": "84a5578a-e688-4f71-be0c-7df0312055a8",
   "metadata": {},
   "source": [
    "Q7. Accept the marks of English, Math and Science,\n",
    "Social Studies Subject and display the stream allotted\n",
    "according to following:\n",
    "\n",
    "All Subjects more than 80 marks — Science Stream\n",
    "\n",
    "English >80 and Math, Science above 50 — Commerce Stream\n",
    "\n",
    "English > 80 and social studies > 80 — Humanities"
   ]
  },
  {
   "cell_type": "code",
   "execution_count": 15,
   "id": "a9f0a213-92c7-4d34-b684-16098099cc38",
   "metadata": {},
   "outputs": [
    {
     "name": "stdin",
     "output_type": "stream",
     "text": [
      "Enter marks in English:  85\n",
      "Enter marks in Math:  76\n",
      "Enter marks in Science:  68\n",
      "Enter marks in Social Studies:  77\n"
     ]
    },
    {
     "name": "stdout",
     "output_type": "stream",
     "text": [
      "Commerce Stream\n"
     ]
    }
   ],
   "source": [
    "# Input marks\n",
    "eng = int(input(\"Enter marks in English: \"))\n",
    "math = int(input(\"Enter marks in Math: \"))\n",
    "sci = int(input(\"Enter marks in Science: \"))\n",
    "sst = int(input(\"Enter marks in Social Studies: \"))\n",
    "\n",
    "# Check conditions for stream allotment\n",
    "if eng > 80 and math > 80 and sci > 80 and sst > 80:\n",
    "    print(\"Science Stream\")\n",
    "elif eng > 80 and math > 50 and sci > 50:\n",
    "    print(\"Commerce Stream\")\n",
    "elif eng > 80 and sst > 80:\n",
    "    print(\"Humanities Stream\")\n",
    "else:\n",
    "    print(\"No stream allotted\")\n"
   ]
  },
  {
   "cell_type": "markdown",
   "id": "4289c539-b4d5-4a28-9910-9cac8da7a206",
   "metadata": {},
   "source": [
    "Q8. Write a program to display \"Hello\" if a number entered\n",
    "by user is a multiple of five, otherwise print \"Bye\"?"
   ]
  },
  {
   "cell_type": "code",
   "execution_count": 16,
   "id": "bef6649e-4575-4150-bcda-02db92693363",
   "metadata": {},
   "outputs": [
    {
     "name": "stdin",
     "output_type": "stream",
     "text": [
      "Enter a number:  15\n"
     ]
    },
    {
     "name": "stdout",
     "output_type": "stream",
     "text": [
      "Hello\n"
     ]
    }
   ],
   "source": [
    "# Accept a number\n",
    "num = int(input(\"Enter a number: \"))\n",
    "\n",
    "# Check if multiple of 5\n",
    "if num % 5 == 0:\n",
    "    print(\"Hello\")\n",
    "else:\n",
    "    print(\"Bye\")\n"
   ]
  },
  {
   "cell_type": "markdown",
   "id": "d29b74e2-b857-4f94-84be-9dd125edd927",
   "metadata": {},
   "source": [
    "Q9. Write a program to check whether the last digit of a number\n",
    "(entered by user) is divisible by 3 or not?"
   ]
  },
  {
   "cell_type": "code",
   "execution_count": 17,
   "id": "3cfaf327-8f3e-46f8-952a-be329a81c8fe",
   "metadata": {},
   "outputs": [
    {
     "name": "stdin",
     "output_type": "stream",
     "text": [
      "Enter a number:  45\n"
     ]
    },
    {
     "name": "stdout",
     "output_type": "stream",
     "text": [
      "The last digit 5 is not divisible by 3.\n"
     ]
    }
   ],
   "source": [
    "# Accept a number\n",
    "num = int(input(\"Enter a number: \"))\n",
    "\n",
    "# Get last digit\n",
    "last_digit = num % 10\n",
    "\n",
    "# Check divisibility\n",
    "if last_digit % 3 == 0:\n",
    "    print(\"The last digit\", last_digit, \"is divisible by 3.\")\n",
    "else:\n",
    "    print(\"The last digit\", last_digit, \"is not divisible by 3.\")\n"
   ]
  },
  {
   "cell_type": "markdown",
   "id": "a0526e56-b55e-44b8-b5a5-ba31e651289f",
   "metadata": {},
   "source": [
    "Q10. Write a program to check whether a number entered\n",
    "is three-digit number or not?"
   ]
  },
  {
   "cell_type": "code",
   "execution_count": 18,
   "id": "fee89573-7c3c-4eed-b910-29bf6d41cf66",
   "metadata": {},
   "outputs": [
    {
     "name": "stdin",
     "output_type": "stream",
     "text": [
      "Enter a number:  555\n"
     ]
    },
    {
     "name": "stdout",
     "output_type": "stream",
     "text": [
      "It is a three-digit number.\n"
     ]
    }
   ],
   "source": [
    "# Accept a number\n",
    "num = int(input(\"Enter a number: \"))\n",
    "\n",
    "# Check if three-digit number\n",
    "if num >= 100 and num <= 999:\n",
    "    print(\"It is a three-digit number.\")\n",
    "elif num <= -100 and num >= -999:   # in case negative numbers are allowed\n",
    "    print(\"It is a three-digit number.\")\n",
    "else:\n",
    "    print(\"It is NOT a three-digit number.\")\n"
   ]
  },
  {
   "cell_type": "code",
   "execution_count": null,
   "id": "06219f88-561b-4784-9175-0603877df712",
   "metadata": {},
   "outputs": [],
   "source": []
  }
 ],
 "metadata": {
  "kernelspec": {
   "display_name": "Python [conda env:base] *",
   "language": "python",
   "name": "conda-base-py"
  },
  "language_info": {
   "codemirror_mode": {
    "name": "ipython",
    "version": 3
   },
   "file_extension": ".py",
   "mimetype": "text/x-python",
   "name": "python",
   "nbconvert_exporter": "python",
   "pygments_lexer": "ipython3",
   "version": "3.13.5"
  }
 },
 "nbformat": 4,
 "nbformat_minor": 5
}
